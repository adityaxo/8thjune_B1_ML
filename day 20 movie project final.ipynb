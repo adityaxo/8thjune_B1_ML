{
 "metadata": {
  "language_info": {
   "codemirror_mode": {
    "name": "ipython",
    "version": 3
   },
   "file_extension": ".py",
   "mimetype": "text/x-python",
   "name": "python",
   "nbconvert_exporter": "python",
   "pygments_lexer": "ipython3",
   "version": "3.7.10"
  },
  "orig_nbformat": 4,
  "kernelspec": {
   "name": "python3",
   "display_name": "Python 3.7.10 64-bit ('myenv': conda)"
  },
  "interpreter": {
   "hash": "5a6a3ff2265a1bcd4751c4f5bb72ed168943c6b91e102b88bf4ce6fc00b6ac66"
  }
 },
 "nbformat": 4,
 "nbformat_minor": 2,
 "cells": [
  {
   "cell_type": "code",
   "execution_count": 68,
   "metadata": {},
   "outputs": [],
   "source": [
    "import tkinter as tk \n"
   ]
  },
  {
   "cell_type": "code",
   "execution_count": 69,
   "metadata": {},
   "outputs": [],
   "source": [
    "import pandas as pd"
   ]
  },
  {
   "cell_type": "code",
   "execution_count": 70,
   "metadata": {},
   "outputs": [],
   "source": [
    "import warnings\n",
    "warnings.filterwarnings('ignore')"
   ]
  },
  {
   "cell_type": "code",
   "execution_count": 71,
   "metadata": {},
   "outputs": [],
   "source": [
    "df= pd.read_csv('ml-100k/u.data',sep='\\t',names=['user_id','item_id','rating','ts'])\n",
    "cols= \"item_id|title|release date|video release date|\\\n",
    "              IMDb URL|unknown|Action|Adventure|Animation|\\\n",
    "              Children's|Comedy|Crime|Documentary|Drama|Fantasy|\\\n",
    "              Film-Noir|Horror|Musical|Mystery|Romance|Sci-Fi|\\\n",
    "              Thriller|War|Western \".split('|')"
   ]
  },
  {
   "cell_type": "code",
   "execution_count": 72,
   "metadata": {},
   "outputs": [],
   "source": [
    "movies=pd.read_csv('ml-100k/u.item',sep='|',names=cols, engine ='python')\n",
    "data=pd.merge(df.drop('ts',axis=1),movies[['item_id','title']] , on='item_id')\n",
    "rate_count = data.groupby('title')['rating'].count()\n",
    "df_pivot=data.pivot_table(index='user_id',columns='title',values='rating')"
   ]
  },
  {
   "source": [
    "app=tk.Tk()\n",
    "app.geometry('450x300')\n",
    "app.title('Recommendation Engine')"
   ],
   "cell_type": "code",
   "metadata": {},
   "execution_count": 73,
   "outputs": [
    {
     "output_type": "execute_result",
     "data": {
      "text/plain": [
       "''"
      ]
     },
     "metadata": {},
     "execution_count": 73
    }
   ]
  },
  {
   "cell_type": "code",
   "execution_count": 74,
   "metadata": {},
   "outputs": [],
   "source": [
    "listbox=tk.Listbox(app, height=15,width=30,bg='pink',fg='purple')\n",
    "listbox.place(x=20,y=20)"
   ]
  },
  {
   "cell_type": "code",
   "execution_count": 75,
   "metadata": {},
   "outputs": [],
   "source": [
    "for i,t in enumerate(data['title'].unique()):\n",
    "    listbox.insert(i+1,t)"
   ]
  },
  {
   "cell_type": "code",
   "execution_count": 76,
   "metadata": {},
   "outputs": [],
   "source": [
    "def recommend():\n",
    "    inp=listbox.get(listbox.curselection())\n",
    "    sim_df= pd.DataFrame(df_pivot.corrwith(df_pivot[inp]),columns=['corr'])\n",
    "    sim_df['count']=rate_count\n",
    "    recom = sim_df[(sim_df['count']>100)].sort_values('corr',ascending=False)\n",
    "    recom.drop(inp,axis=0,inplace=True)\n",
    "    recommended= recom.index[:3]\n",
    "    result1.set(recommended[0])\n",
    "    result2.set(recommended[1])\n",
    "    result3.set(recommended[2])\n",
    "    print(inp)\n",
    "    print(recommended)"
   ]
  },
  {
   "cell_type": "code",
   "execution_count": 77,
   "metadata": {},
   "outputs": [],
   "source": [
    "tk.Button(app , text='Show Recommendations',command=recommend,bg='blue',fg='white').place(x=250,y=30)\n",
    "result1 =tk.Variable(app)\n",
    "result1.set('.')\n",
    "tk.Label(app, textvariable=result1).place(x=250,y=100)\n"
   ]
  },
  {
   "cell_type": "code",
   "execution_count": 78,
   "metadata": {},
   "outputs": [],
   "source": [
    "result2=tk.Variable(app)\n",
    "result2.set('.')\n",
    "tk.Label(app, textvariable=result2).place(x=250,y=130)"
   ]
  },
  {
   "cell_type": "code",
   "execution_count": 79,
   "metadata": {},
   "outputs": [],
   "source": [
    "result3=tk.Variable(app)\n",
    "result3.set('.')\n",
    "tk.Label(app, textvariable=result3).place(x=250,y=160)"
   ]
  },
  {
   "cell_type": "code",
   "execution_count": 80,
   "metadata": {},
   "outputs": [],
   "source": [
    "app.mainloop()"
   ]
  },
  {
   "cell_type": "code",
   "execution_count": null,
   "metadata": {},
   "outputs": [],
   "source": []
  }
 ]
}